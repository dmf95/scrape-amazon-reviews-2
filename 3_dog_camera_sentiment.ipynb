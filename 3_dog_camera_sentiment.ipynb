{
 "metadata": {
  "language_info": {
   "codemirror_mode": {
    "name": "ipython",
    "version": 3
   },
   "file_extension": ".py",
   "mimetype": "text/x-python",
   "name": "python",
   "nbconvert_exporter": "python",
   "pygments_lexer": "ipython3",
   "version": "3.9.1"
  },
  "orig_nbformat": 2,
  "kernelspec": {
   "name": "python391jvsc74a57bd007a70a5077e9c9feae5d08fa41fc44d95abc22f10394969018e5e0f4ca96aa5b",
   "display_name": "Python 3.9.1 64-bit"
  }
 },
 "nbformat": 4,
 "nbformat_minor": 2,
 "cells": [
  {
   "source": [
    "## Analysis goals\n",
    "* Sentiment analysis of amazon product reviews data from 2 different dog cameras\n",
    "* Explore the polarity of the data\n",
    "* Explore the subjectivity of the data\n",
    "* Review extreme cases (this could turn into a topic model analysis)\n",
    "* Credit: https://towardsdatascience.com/sentiment-analysis-on-amazon-reviews-45cd169447ac"
   ],
   "cell_type": "markdown",
   "metadata": {}
  },
  {
   "source": [
    "## Part 1: Load data\n",
    "* Load libraries & data\n",
    "* Quick exploration of data"
   ],
   "cell_type": "markdown",
   "metadata": {}
  },
  {
   "cell_type": "code",
   "execution_count": 1,
   "metadata": {},
   "outputs": [
    {
     "output_type": "stream",
     "name": "stderr",
     "text": [
      "[nltk_data] Downloading package wordnet to\n[nltk_data]     C:\\Users\\domen\\AppData\\Roaming\\nltk_data...\n[nltk_data]   Package wordnet is already up-to-date!\n"
     ]
    },
    {
     "output_type": "execute_result",
     "data": {
      "text/plain": [
       "True"
      ]
     },
     "metadata": {},
     "execution_count": 1
    }
   ],
   "source": [
    "# Import libraries\n",
    "import pandas as pd\n",
    "import nltk as n\n",
    "from textblob import TextBlob as tb\n",
    "\n",
    "n.download('wordnet')"
   ]
  },
  {
   "cell_type": "code",
   "execution_count": 2,
   "metadata": {},
   "outputs": [
    {
     "output_type": "execute_result",
     "data": {
      "text/plain": [
       "                                             product  \\\n",
       "0  Furbo Dog Camera: Treat Tossing, Full HD WiFi ...   \n",
       "\n",
       "                                      date             title  rating  \\\n",
       "0  Reviewed in Canada on December 14, 2018  Glorified Webcam     2.0   \n",
       "\n",
       "                                                body  \n",
       "0  I bought the Furbo as a birthday gift for my b...  "
      ],
      "text/html": "<div>\n<style scoped>\n    .dataframe tbody tr th:only-of-type {\n        vertical-align: middle;\n    }\n\n    .dataframe tbody tr th {\n        vertical-align: top;\n    }\n\n    .dataframe thead th {\n        text-align: right;\n    }\n</style>\n<table border=\"1\" class=\"dataframe\">\n  <thead>\n    <tr style=\"text-align: right;\">\n      <th></th>\n      <th>product</th>\n      <th>date</th>\n      <th>title</th>\n      <th>rating</th>\n      <th>body</th>\n    </tr>\n  </thead>\n  <tbody>\n    <tr>\n      <th>0</th>\n      <td>Furbo Dog Camera: Treat Tossing, Full HD WiFi ...</td>\n      <td>Reviewed in Canada on December 14, 2018</td>\n      <td>Glorified Webcam</td>\n      <td>2.0</td>\n      <td>I bought the Furbo as a birthday gift for my b...</td>\n    </tr>\n  </tbody>\n</table>\n</div>"
     },
     "metadata": {},
     "execution_count": 2
    }
   ],
   "source": [
    "# Get the amazon reviews data, store as pandas df\n",
    "df = pd.read_csv(\"dog-cameras-clean.csv\")\n",
    "df = pd.DataFrame(df)\n",
    "df.head(1) # show first row"
   ]
  },
  {
   "source": [
    "## Part 2: Feature Extraction (before text cleaning)\n",
    "* Count of Stopwords\n",
    "* Count of Punctuation\n",
    "* Count of Hashtag characters\n",
    "* Count of Numeric characters\n",
    "* Count of Emojis & Emoticons"
   ],
   "cell_type": "markdown",
   "metadata": {}
  },
  {
   "source": [
    "## Part 3: Data & Text Cleaning\n",
    "* Change to lower case\n",
    "* Remove punctuation, stopwords, URLs, html tags, emojis, emoticons\n",
    "* Spell correction\n",
    "* Explore & remove custom stopwords"
   ],
   "cell_type": "markdown",
   "metadata": {}
  },
  {
   "source": [
    "## Part 4: Feature Extraction (after text cleaning)\n",
    "* Word count\n",
    "* Character count\n",
    "* Avg/median word length\n",
    "* Create date/time variable\n",
    "* Create review country\n"
   ],
   "cell_type": "markdown",
   "metadata": {}
  },
  {
   "cell_type": "code",
   "execution_count": null,
   "metadata": {},
   "outputs": [],
   "source": [
    "# Function to find the polarity of each review\n",
    "def polarity(x):\n",
    "    pol = TextBlob(x).sentiment.polarity\n",
    "    df['polarity'] = x['text'].apply(pol) # depending on the size of your data, this step may take some time.\n",
    "    return df\n",
    "\n",
    "polarity()"
   ]
  }
 ]
}